{
 "cells": [
  {
   "cell_type": "markdown",
   "metadata": {},
   "source": [
    "# Mise en place"
   ]
  },
  {
   "cell_type": "code",
   "execution_count": null,
   "metadata": {},
   "outputs": [],
   "source": [
    "# OS & env\n",
    "from dotenv import load_dotenv\n",
    "import os\n",
    "\n",
    "# DS\n",
    "import numpy as np\n",
    "import pandas as pd\n",
    "import dill as pickle\n",
    "\n",
    "# home made functions from the src folder\n",
    "# from src.scrap_and_clean import get_languages\n",
    "\n",
    "# ML\n",
    "# from sklearn.feature_extraction.text import CountVectorizer\n",
    "\n",
    "# dataviz\n",
    "import matplotlib.pyplot as plt\n",
    "import seaborn as sns\n"
   ]
  },
  {
   "cell_type": "markdown",
   "metadata": {},
   "source": [
    "# xxxxxx"
   ]
  },
  {
   "cell_type": "code",
   "execution_count": null,
   "metadata": {},
   "outputs": [],
   "source": [
    "print(\"I'm soooo empty\")"
   ]
  }
 ],
 "metadata": {
  "language_info": {
   "name": "python"
  }
 },
 "nbformat": 4,
 "nbformat_minor": 2
}
