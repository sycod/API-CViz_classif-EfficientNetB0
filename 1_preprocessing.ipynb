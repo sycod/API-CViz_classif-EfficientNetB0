{
 "cells": [
  {
   "cell_type": "markdown",
   "metadata": {},
   "source": [
    "# Mise en place"
   ]
  },
  {
   "cell_type": "code",
   "execution_count": 1,
   "metadata": {},
   "outputs": [],
   "source": [
    "# OS & env\n",
    "from dotenv import load_dotenv\n",
    "import os\n",
    "import yaml\n",
    "\n",
    "# DS\n",
    "import numpy as np\n",
    "import pandas as pd\n",
    "import dill as pickle\n",
    "\n",
    "# dataviz\n",
    "import matplotlib.pyplot as plt\n",
    "import seaborn as sns\n",
    "\n",
    "# home made functions from the src folder\n",
    "from src.get_data import get_tar_and_extract\n",
    "from src.get_data import create_img_db"
   ]
  },
  {
   "cell_type": "markdown",
   "metadata": {},
   "source": [
    "Load config"
   ]
  },
  {
   "cell_type": "code",
   "execution_count": 2,
   "metadata": {},
   "outputs": [],
   "source": [
    "# environment config\n",
    "load_dotenv()\n",
    "IMG_URL = os.getenv(\"IMG_URL\")\n",
    "ANNOT_URL = os.getenv(\"ANNOT_URL\")\n",
    "\n",
    "# local config\n",
    "with open('config.yaml', 'r') as f:\n",
    "    cfg = yaml.safe_load(f)\n",
    "\n",
    "data_dir = cfg[\"data\"][\"local_path\"]\n",
    "img_dir = os.path.join(data_dir, cfg[\"data\"][\"img_dir\"])\n",
    "annot_dir = os.path.join(data_dir, cfg[\"data\"][\"annot_dir\"])\n",
    "img_db_uri = os.path.join(data_dir, cfg[\"data\"][\"img_db_uri\"])"
   ]
  },
  {
   "cell_type": "markdown",
   "metadata": {},
   "source": [
    "Load images and annotations, create DB"
   ]
  },
  {
   "cell_type": "code",
   "execution_count": 3,
   "metadata": {},
   "outputs": [],
   "source": [
    "if os.path.exists(img_db_uri):\n",
    "    annot_df = pd.read_csv(img_db_uri, index_col=0)\n",
    "else:\n",
    "    # download, extract and store data\n",
    "    print(\"⚙️ Downloading images...\")\n",
    "    get_tar_and_extract(IMG_URL, data_dir)\n",
    "    print(\"⚙️ Downloading annotations...\")\n",
    "    get_tar_and_extract(ANNOT_URL, data_dir)\n",
    "    print(\"⚙️ Creating database...\")\n",
    "    \n",
    "    # create database\n",
    "    img_df = create_img_db(img_dir, annot_dir, img_db_uri)"
   ]
  },
  {
   "cell_type": "markdown",
   "metadata": {},
   "source": [
    "# xxxxxx"
   ]
  },
  {
   "cell_type": "code",
   "execution_count": null,
   "metadata": {},
   "outputs": [],
   "source": [
    "# if not os.path.exists(\"data/img_list.csv\"):\n",
    "#     print(\"⚙️  Setting up data...\")\n",
    "\n",
    "\n",
    "\n",
    "    # create CSV -> images list with for each:\n",
    "    #   - URI\n",
    "    #   - annotation\n",
    "    # df_raw = pd.read_csv(DATA_URL)\n",
    "    # with open(\"data/data_raw.pkl\", \"wb\") as f:\n",
    "    #     pickle.dump(df_raw, f)\n",
    "else:\n",
    "    # with open(\"data/data_raw.pkl\", \"rb\") as f:\n",
    "        # df_raw = pickle.load(f)\n",
    "    df_raw = pd.read_csv(DATA_URL)"
   ]
  },
  {
   "cell_type": "code",
   "execution_count": null,
   "metadata": {},
   "outputs": [],
   "source": [
    "import requests\n",
    "import tarfile\n",
    "import os\n",
    "\n",
    "def download_and_extract_tar(url, output_directory):\n",
    "    # Téléchargement de l'archive\n",
    "    response = requests.get(url)\n",
    "    \n",
    "    # Création du dossier de sortie\n",
    "    os.makedirs(output_directory, exist_ok=True)\n",
    "    \n",
    "    # Écriture de l'archive téléchargée dans un fichier temporaire\n",
    "    temp_file = os.path.join(output_directory, \"temp.tar\")\n",
    "    with open(temp_file, \"wb\") as file:\n",
    "        file.write(response.content)\n",
    "    \n",
    "    # Extraction de l'archive\n",
    "    with tarfile.open(temp_file, \"r\") as tar:\n",
    "        tar.extractall(path=output_directory)\n",
    "    \n",
    "    # Suppression du fichier temporaire\n",
    "    os.remove(temp_file)\n",
    "\n",
    "# Utilisation de la fonction\n",
    "url = \"http://example.com/archive.tar\"\n",
    "output_directory = \"extracted_files\"\n",
    "download_and_extract_tar(url, output_directory)\n"
   ]
  }
 ],
 "metadata": {
  "kernelspec": {
   "display_name": ".venv",
   "language": "python",
   "name": "python3"
  },
  "language_info": {
   "codemirror_mode": {
    "name": "ipython",
    "version": 3
   },
   "file_extension": ".py",
   "mimetype": "text/x-python",
   "name": "python",
   "nbconvert_exporter": "python",
   "pygments_lexer": "ipython3",
   "version": "3.11.6"
  }
 },
 "nbformat": 4,
 "nbformat_minor": 2
}
