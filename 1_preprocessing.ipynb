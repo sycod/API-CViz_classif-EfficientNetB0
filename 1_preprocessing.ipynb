{
 "cells": [
  {
   "cell_type": "markdown",
   "metadata": {},
   "source": [
    "# Mise en place"
   ]
  },
  {
   "cell_type": "code",
   "execution_count": null,
   "metadata": {},
   "outputs": [],
   "source": [
    "# OS & env\n",
    "import os\n",
    "\n",
    "# DS\n",
    "import numpy as np\n",
    "import pandas as pd\n",
    "import dill as pickle\n",
    "\n",
    "# home made functions from the src folder\n",
    "# from src.scrap_and_clean import get_languages\n",
    "\n",
    "# ML\n",
    "# from sklearn.feature_extraction.text import CountVectorizer\n",
    "\n",
    "# dataviz\n",
    "import matplotlib.pyplot as plt\n",
    "import seaborn as sns\n"
   ]
  },
  {
   "cell_type": "markdown",
   "metadata": {},
   "source": [
    "# xxxxxx"
   ]
  },
  {
   "cell_type": "code",
   "execution_count": null,
   "metadata": {},
   "outputs": [],
   "source": [
    "data_uri = \n",
    "if not os.path.exists(\"data/img_list.csv\"):\n",
    "    print(\"⚙️  Setting up data...\")\n",
    "\n",
    "\n",
    "\n",
    "    # create CSV -> images list with for each:\n",
    "    #   - URI\n",
    "    #   - annotation\n",
    "    # df_raw = pd.read_csv(DATA_URL)\n",
    "    # with open(\"data/data_raw.pkl\", \"wb\") as f:\n",
    "    #     pickle.dump(df_raw, f)\n",
    "else:\n",
    "    # with open(\"data/data_raw.pkl\", \"rb\") as f:\n",
    "        # df_raw = pickle.load(f)\n",
    "    df_raw = pd.read_csv(DATA_URL)"
   ]
  },
  {
   "cell_type": "code",
   "execution_count": null,
   "metadata": {},
   "outputs": [],
   "source": [
    "import requests\n",
    "import tarfile\n",
    "import os\n",
    "\n",
    "def download_and_extract_tar(url, output_directory):\n",
    "    # Téléchargement de l'archive\n",
    "    response = requests.get(url)\n",
    "    \n",
    "    # Création du dossier de sortie\n",
    "    os.makedirs(output_directory, exist_ok=True)\n",
    "    \n",
    "    # Écriture de l'archive téléchargée dans un fichier temporaire\n",
    "    temp_file = os.path.join(output_directory, \"temp.tar\")\n",
    "    with open(temp_file, \"wb\") as file:\n",
    "        file.write(response.content)\n",
    "    \n",
    "    # Extraction de l'archive\n",
    "    with tarfile.open(temp_file, \"r\") as tar:\n",
    "        tar.extractall(path=output_directory)\n",
    "    \n",
    "    # Suppression du fichier temporaire\n",
    "    os.remove(temp_file)\n",
    "\n",
    "# Utilisation de la fonction\n",
    "url = \"http://example.com/archive.tar\"\n",
    "output_directory = \"extracted_files\"\n",
    "download_and_extract_tar(url, output_directory)\n"
   ]
  },
  {
   "cell_type": "code",
   "execution_count": null,
   "metadata": {},
   "outputs": [],
   "source": [
    "print(\"I'm soooo empty\")"
   ]
  }
 ],
 "metadata": {
  "language_info": {
   "name": "python"
  }
 },
 "nbformat": 4,
 "nbformat_minor": 2
}
